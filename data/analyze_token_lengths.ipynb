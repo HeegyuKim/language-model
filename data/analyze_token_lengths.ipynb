{
 "cells": [
  {
   "cell_type": "code",
   "execution_count": 9,
   "metadata": {},
   "outputs": [],
   "source": [
    "from datasets import load_dataset\n",
    "from transformers import AutoTokenizer\n",
    "import pandas as pd"
   ]
  },
  {
   "cell_type": "code",
   "execution_count": 2,
   "metadata": {},
   "outputs": [
    {
     "data": {
      "application/vnd.jupyter.widget-view+json": {
       "model_id": "6de394470d614339b107d18983665f34",
       "version_major": 2,
       "version_minor": 0
      },
      "text/plain": [
       "Downloading:   0%|          | 0.00/790 [00:00<?, ?B/s]"
      ]
     },
     "metadata": {},
     "output_type": "display_data"
    },
    {
     "data": {
      "application/vnd.jupyter.widget-view+json": {
       "model_id": "0909184895ef444f9a54127e08e5685c",
       "version_major": 2,
       "version_minor": 0
      },
      "text/plain": [
       "Downloading:   0%|          | 0.00/1.27M [00:00<?, ?B/s]"
      ]
     },
     "metadata": {},
     "output_type": "display_data"
    },
    {
     "data": {
      "application/vnd.jupyter.widget-view+json": {
       "model_id": "503fc2c03d5343208d069b202ecab194",
       "version_major": 2,
       "version_minor": 0
      },
      "text/plain": [
       "Downloading:   0%|          | 0.00/925k [00:00<?, ?B/s]"
      ]
     },
     "metadata": {},
     "output_type": "display_data"
    },
    {
     "data": {
      "application/vnd.jupyter.widget-view+json": {
       "model_id": "872515c605624a1fb8a9782ae9910b9b",
       "version_major": 2,
       "version_minor": 0
      },
      "text/plain": [
       "Downloading:   0%|          | 0.00/3.07M [00:00<?, ?B/s]"
      ]
     },
     "metadata": {},
     "output_type": "display_data"
    },
    {
     "data": {
      "application/vnd.jupyter.widget-view+json": {
       "model_id": "bc421d26e9b74e6fb3bf985ba7a1f48a",
       "version_major": 2,
       "version_minor": 0
      },
      "text/plain": [
       "Downloading:   0%|          | 0.00/96.0 [00:00<?, ?B/s]"
      ]
     },
     "metadata": {},
     "output_type": "display_data"
    }
   ],
   "source": [
    "tokenizer = AutoTokenizer.from_pretrained(\"heegyu/kogpt-j-base\")"
   ]
  },
  {
   "cell_type": "code",
   "execution_count": 7,
   "metadata": {},
   "outputs": [
    {
     "name": "stderr",
     "output_type": "stream",
     "text": [
      "Using custom data configuration default-ed8c32b9841a613f\n"
     ]
    },
    {
     "name": "stdout",
     "output_type": "stream",
     "text": [
      "Downloading and preparing dataset json/default to /Users/casa/.cache/huggingface/datasets/json/default-ed8c32b9841a613f/0.0.0/0f7e3662623656454fcd2b650f34e886a7db4b9104504885bd462096cc7a9f51...\n"
     ]
    },
    {
     "data": {
      "application/vnd.jupyter.widget-view+json": {
       "model_id": "afc34f65fc3c4e2d9debd253b7475486",
       "version_major": 2,
       "version_minor": 0
      },
      "text/plain": [
       "Downloading data files:   0%|          | 0/1 [00:00<?, ?it/s]"
      ]
     },
     "metadata": {},
     "output_type": "display_data"
    },
    {
     "data": {
      "application/vnd.jupyter.widget-view+json": {
       "model_id": "e0ede08e87be4e51888a506d0b401339",
       "version_major": 2,
       "version_minor": 0
      },
      "text/plain": [
       "Extracting data files:   0%|          | 0/1 [00:00<?, ?it/s]"
      ]
     },
     "metadata": {},
     "output_type": "display_data"
    },
    {
     "data": {
      "application/vnd.jupyter.widget-view+json": {
       "model_id": "d663b951b8294b79a6a176d7a6b81869",
       "version_major": 2,
       "version_minor": 0
      },
      "text/plain": [
       "Generating train split: 0 examples [00:00, ? examples/s]"
      ]
     },
     "metadata": {},
     "output_type": "display_data"
    },
    {
     "name": "stdout",
     "output_type": "stream",
     "text": [
      "Dataset json downloaded and prepared to /Users/casa/.cache/huggingface/datasets/json/default-ed8c32b9841a613f/0.0.0/0f7e3662623656454fcd2b650f34e886a7db4b9104504885bd462096cc7a9f51. Subsequent calls will reuse this data.\n"
     ]
    },
    {
     "data": {
      "application/vnd.jupyter.widget-view+json": {
       "model_id": "6e3b7e9c67e54891bdccfd514791cb22",
       "version_major": 2,
       "version_minor": 0
      },
      "text/plain": [
       "  0%|          | 0/1 [00:00<?, ?it/s]"
      ]
     },
     "metadata": {},
     "output_type": "display_data"
    },
    {
     "data": {
      "text/plain": [
       "DatasetDict({\n",
       "    train: Dataset({\n",
       "        features: ['id', 'text', 'summary'],\n",
       "        num_rows: 165071\n",
       "    })\n",
       "})"
      ]
     },
     "execution_count": 7,
     "metadata": {},
     "output_type": "execute_result"
    }
   ],
   "source": [
    "# dataset = load_dataset(\"heegyu/nia_summary\", use_auth_token=True)\n",
    "dataset = load_dataset(\"json\", data_files=\"output/*.jsonl\")\n",
    "dataset"
   ]
  },
  {
   "cell_type": "code",
   "execution_count": 8,
   "metadata": {},
   "outputs": [
    {
     "data": {
      "application/vnd.jupyter.widget-view+json": {
       "model_id": "f099facfc47b470fa5478db3e7f7c91e",
       "version_major": 2,
       "version_minor": 0
      },
      "text/plain": [
       "  0%|          | 0/165071 [00:00<?, ?ex/s]"
      ]
     },
     "metadata": {},
     "output_type": "display_data"
    },
    {
     "data": {
      "text/plain": [
       "{'id': 'REPORT-literature-03971-03971',\n",
       " 'text': ' 나는 그 모든 소리를 들을 때에 꽃다운 혜경의 장래에 대한 동정심과 아울 러 최 목사와 그 남자의 추행에 대한 의분과 질투에 끓었다. “혼례식은 언제 하나?” “이제 앞으로 한 달 반쯤 남았어요. 오월 열 이튿날이라니까……. 그래서 그 준비 때문에 졸업식 전에 먼저 나왔대요.” 나는 무어라고 형언할 수 없는 기분에 싸였다. 혜경이와 아무 관계도 없건 마는 그가 불원간 떠나게 된다는 것이 내게는 말할 수 없이 쓸쓸하였다. 어 째서 쓸쓸한지 나로도 알 수 없었다. ‘단념! 단념! 모든 것을 단념! 하자! 내가 왜 이럴까?’ 나는 그와 같은 아내를 가질 자격도 없거니와 더구나 그는 결혼한 여자 다……. 그러나 다만 누이로라도 사랑한다면. 나는 얼토당토않은 이런 생각 으로 밤잠을 못 이루었다. 이튿날부터 나는 혜경이를 자주 보게 되었다. 나는 그와 마주칠 때마다 부 드러운 느낌을 받으면서도 수줍고 부끄러워서 그의 낯을 똑똑히 바라보지 못하였다. 나뿐이 아니라 혜경이도 나를 똑바로 쳐다보지 않았다. 혹 내가 마당에서 거닐거나 무엇을 할 때에 그의 방문이 열렸거나 그가 마당에 나섰 거나 하면 나는 그를 등지고 돌아보지 않았다. 그리고 내 등뒤에 선 그가 무슨 발광체 같기도 하고 나의 일동일정을 감시나 하는 듯해서 보고 싶으면 서도 차마 머리를 돌리지 못하였다. 그러면서도 나는 눈이 삐뚤어지도록 은 근히 돌려서 애교가 흐르는 그의 얼굴을 도적해 보았다. 도적해 보다가 생 각하던 바에 뒤져서 그가 나를 주의해 보지 않는 것을 발견할 때면 나는 마 음이 좀 편하면서도 섭섭하였다. 혜경이도 어찌 되어 나를 등지고 내 앞에 서는 때면 그의 일동일정이 부자연스럽게 보였다. 그도 내 모양으로 머리를 돌려서 내 편을 못 보았다. 그러나 간간이 그의 머리가 극히 고요한 동작으 로 돌아지면서 하 얀 귀, 불그레한 뺨의 반면이 내 쪽으로 향할 듯하다가 도 그만 못 돌리는 것은 곁눈질하는 것임을 나는 알았다. 그렇게 생각하면 생각할수록 내 마음은 끓었다. 거치른 환경에서 거치른 바람에 꽉꽉 응결되 어서 인간의 달콤한 정열을 못 느낀 내 마음은 공교롭게 만난 이성의 냄새 와 빛에 봄눈같이 풀렸다. 동시에 기구한 내 신세가 더욱 슬펐다.\\n',\n",
       " 'summary': '최 목사와 한 달 반쯤 남은 혜경이의 혼례식에 나는 혜경이와 아무 관계도 없건 만 그가 떠나는 것이 말할 수 없이 쓸쓸했다.',\n",
       " 'encoded_length': 475}"
      ]
     },
     "execution_count": 8,
     "metadata": {},
     "output_type": "execute_result"
    }
   ],
   "source": [
    "def encode_length(x):\n",
    "    encodings = tokenizer.encode(x['text'], truncation=False)\n",
    "    return {\n",
    "        \"encoded_length\": len(encodings)\n",
    "    }\n",
    "\n",
    "encoded_dataset = dataset.map(encode_length)\n",
    "encoded_dataset['train'][0]"
   ]
  },
  {
   "cell_type": "code",
   "execution_count": 10,
   "metadata": {},
   "outputs": [
    {
     "data": {
      "text/plain": [
       "count    165071.000000\n",
       "mean        361.312999\n",
       "std         105.791715\n",
       "min          96.000000\n",
       "25%         302.000000\n",
       "50%         336.000000\n",
       "75%         399.000000\n",
       "max        1154.000000\n",
       "dtype: float64"
      ]
     },
     "execution_count": 10,
     "metadata": {},
     "output_type": "execute_result"
    }
   ],
   "source": [
    "pd.Series(\n",
    "    encoded_dataset['train']['encoded_length']\n",
    ").describe()"
   ]
  },
  {
   "cell_type": "code",
   "execution_count": 11,
   "metadata": {},
   "outputs": [
    {
     "name": "stdout",
     "output_type": "stream",
     "text": [
      "huggingface/tokenizers: The current process just got forked, after parallelism has already been used. Disabling parallelism to avoid deadlocks...\n",
      "To disable this warning, you can either:\n",
      "\t- Avoid using `tokenizers` before the fork if possible\n",
      "\t- Explicitly set the environment variable TOKENIZERS_PARALLELISM=(true | false)\n"
     ]
    },
    {
     "data": {
      "text/plain": [
       "<AxesSubplot: ylabel='Frequency'>"
      ]
     },
     "execution_count": 11,
     "metadata": {},
     "output_type": "execute_result"
    },
    {
     "data": {
      "image/png": "[encoded data removed]",
      "text/plain": [
       "<Figure size 640x480 with 1 Axes>"
      ]
     },
     "metadata": {},
     "output_type": "display_data"
    }
   ],
   "source": [
    "pd.Series(\n",
    "    encoded_dataset['train']['encoded_length']\n",
    ").plot.hist(bins=20)"
   ]
  }
 ],
 "metadata": {
  "kernelspec": {
   "display_name": "Python 3",
   "language": "python",
   "name": "python3"
  },
  "language_info": {
   "codemirror_mode": {
    "name": "ipython",
    "version": 3
   },
   "file_extension": ".py",
   "mimetype": "text/x-python",
   "name": "python",
   "nbconvert_exporter": "python",
   "pygments_lexer": "ipython3",
   "version": "3.9.6"
  },
  "orig_nbformat": 4,
  "vscode": {
   "interpreter": {
    "hash": "31f2aee4e71d21fbe5cf8b01ff0e069b9275f58929596ceb00d14d90e3e16cd6"
   }
  }
 },
 "nbformat": 4,
 "nbformat_minor": 2
}
